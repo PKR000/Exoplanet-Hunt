{
 "cells": [
  {
   "cell_type": "code",
   "execution_count": null,
   "metadata": {},
   "outputs": [
    {
     "name": "stderr",
     "output_type": "stream",
     "text": [
      "Warning: 8462852 may refer to a different Kepler or TESS target. Please add the prefix 'KIC' or 'TIC' to disambiguate.\n",
      "c:\\Users\\Preston\\AppData\\Local\\Programs\\Python\\Python310\\lib\\site-packages\\lightkurve\\search.py:424: LightkurveWarning: Warning: 13 files available to download. Only the first file has been downloaded. Please use `download_all()` or specify additional criteria (e.g. quarter, campaign, or sector) to limit your search.\n",
      "  warnings.warn(\n"
     ]
    }
   ],
   "source": [
    "from lightkurve import search_targetpixelfile\n",
    "import lightkurve as lk\n",
    "import matplotlib.pyplot as plt\n",
    "\n",
    "search_result = search_targetpixelfile(\"KIC 8462852\", mission='TESS')\n",
    "tpfs = search_result.download(quality_bitmask='hardest')\n",
    "\n"
   ]
  },
  {
   "cell_type": "code",
   "execution_count": null,
   "metadata": {},
   "outputs": [],
   "source": []
  },
  {
   "cell_type": "code",
   "execution_count": null,
   "metadata": {},
   "outputs": [],
   "source": [
    "last_pixelfile.plot(aperture_mask=last_pixelfile.pipeline_mask)\n",
    "lc = last_pixelfile.to_lightcurve()\n",
    "lc.scatter()\n",
    "plt.show()"
   ]
  },
  {
   "cell_type": "code",
   "execution_count": null,
   "metadata": {},
   "outputs": [],
   "source": [
    "aperture_mask = last_pixelfile.create_threshold_mask(threshold=10)\n",
    "lc = last_pixelfile.to_lightcurve(aperture_mask=aperture_mask)\n",
    "lc.scatter()\n",
    "plt.show()\n",
    "\n",
    "flat_lc = lc.flatten(window_length=1001)\n",
    "flat_lc.scatter()\n",
    "plt.show()"
   ]
  },
  {
   "cell_type": "code",
   "execution_count": null,
   "metadata": {},
   "outputs": [],
   "source": [
    "jd_time = flat_lc.time.jd\n",
    "mask = ((jd_time < (2457000+1339)) | (jd_time > (2457000+1342)))&((jd_time < (2457000+1346)) | (jd_time > (2457000+1350)))\n",
    "masked_lc = flat_lc[mask]\n",
    "\n",
    "masked_lc.scatter()\n",
    "plt.show()"
   ]
  },
  {
   "cell_type": "code",
   "execution_count": null,
   "metadata": {},
   "outputs": [],
   "source": [
    "clipped_lc = masked_lc.remove_outliers(sigma=6)\n",
    "clipped_lc.scatter(s=0.1)\n",
    "plt.show()"
   ]
  },
  {
   "cell_type": "code",
   "execution_count": null,
   "metadata": {},
   "outputs": [],
   "source": [
    "import numpy as np\n",
    "periodogram = clipped_lc.to_periodogram(method='bls', period=np.arange(1, 10, 0.001))\n",
    "periodogram.plot()\n",
    "plt.show()"
   ]
  },
  {
   "cell_type": "code",
   "execution_count": null,
   "metadata": {},
   "outputs": [],
   "source": [
    "best_fit_period = periodogram.period_at_max_power\n",
    "print('Best fit period: {:.5f}'.format(best_fit_period))\n",
    "\n",
    "clipped_lc.fold(periodogram.period_at_max_power).scatter()\n",
    "plt.show()\n",
    "\n",
    "folded_lc = clipped_lc.fold(periodogram.period_at_max_power)\n",
    "folded_lc.scatter(s=0.1)\n",
    "plt.show()"
   ]
  },
  {
   "cell_type": "code",
   "execution_count": null,
   "metadata": {},
   "outputs": [],
   "source": [
    "binned_lc = folded_lc.bin(binsize=5)\n",
    "binned_lc.scatter()\n",
    "plt.ylim([min(binned_lc.flux) - 0.0015, max(binned_lc.flux) + 0.0015])\n",
    "plt.show()"
   ]
  }
 ],
 "metadata": {
  "kernelspec": {
   "display_name": "Python 3",
   "language": "python",
   "name": "python3"
  },
  "language_info": {
   "codemirror_mode": {
    "name": "ipython",
    "version": 3
   },
   "file_extension": ".py",
   "mimetype": "text/x-python",
   "name": "python",
   "nbconvert_exporter": "python",
   "pygments_lexer": "ipython3",
   "version": "3.10.9"
  }
 },
 "nbformat": 4,
 "nbformat_minor": 2
}
